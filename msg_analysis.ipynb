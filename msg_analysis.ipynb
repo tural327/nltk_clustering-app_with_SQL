{
 "cells": [
  {
   "cell_type": "code",
   "execution_count": 1,
   "id": "89e822d4",
   "metadata": {},
   "outputs": [],
   "source": [
    "import pandas as pd\n",
    "import numpy as np\n",
    "import matplotlib.pyplot as plt\n",
    "from sklearn.decomposition import PCA\n",
    "import seaborn as sns"
   ]
  },
  {
   "cell_type": "code",
   "execution_count": 2,
   "id": "421a1fd4",
   "metadata": {},
   "outputs": [],
   "source": [
    "df = pd.read_csv(\"tickets.csv\")"
   ]
  },
  {
   "cell_type": "code",
   "execution_count": 3,
   "id": "52cb6d3d",
   "metadata": {},
   "outputs": [
    {
     "data": {
      "text/plain": [
       "'test-vm-01: VMware: VM CPU Usage Has Exceeded Threshold (95%), currently (100.0%)'"
      ]
     },
     "execution_count": 3,
     "metadata": {},
     "output_type": "execute_result"
    }
   ],
   "source": [
    "df[\"ticket\"][3]"
   ]
  },
  {
   "cell_type": "code",
   "execution_count": 4,
   "id": "49185b08",
   "metadata": {},
   "outputs": [
    {
     "data": {
      "text/plain": [
       "' Device Failed Availability Check'"
      ]
     },
     "execution_count": 4,
     "metadata": {},
     "output_type": "execute_result"
    }
   ],
   "source": [
    "df[\"ticket\"][100].split(\":\")[1]"
   ]
  },
  {
   "cell_type": "code",
   "execution_count": 5,
   "id": "18bc03c0",
   "metadata": {},
   "outputs": [
    {
     "data": {
      "text/plain": [
       "'test'"
      ]
     },
     "execution_count": 5,
     "metadata": {},
     "output_type": "execute_result"
    }
   ],
   "source": [
    "df[\"ticket\"][3][0:4]"
   ]
  },
  {
   "cell_type": "code",
   "execution_count": 6,
   "id": "2815796d",
   "metadata": {},
   "outputs": [],
   "source": [
    "def take_main_fail(text):\n",
    "    try:\n",
    "        if text[0:4] == 'test':\n",
    "            end_text = text.split(\":\")[2]\n",
    "        else:\n",
    "            end_text = text.split(\":\")[1]\n",
    "    except:\n",
    "        end_text = text\n",
    "    \n",
    "    return end_text"
   ]
  },
  {
   "cell_type": "code",
   "execution_count": 7,
   "id": "2ed97d2f",
   "metadata": {},
   "outputs": [],
   "source": [
    "df[\"main_text\"] = df[\"ticket\"].apply(lambda x :take_main_fail(x))"
   ]
  },
  {
   "cell_type": "code",
   "execution_count": 8,
   "id": "60a434b3",
   "metadata": {},
   "outputs": [
    {
     "name": "stderr",
     "output_type": "stream",
     "text": [
      "2021-09-09 00:33:35.927278: W tensorflow/stream_executor/platform/default/dso_loader.cc:64] Could not load dynamic library 'libcudart.so.11.0'; dlerror: libcudart.so.11.0: cannot open shared object file: No such file or directory\n",
      "2021-09-09 00:33:35.927309: I tensorflow/stream_executor/cuda/cudart_stub.cc:29] Ignore above cudart dlerror if you do not have a GPU set up on your machine.\n"
     ]
    }
   ],
   "source": [
    "from tensorflow.keras.preprocessing.text import Tokenizer\n",
    "from tensorflow.keras.preprocessing.sequence import pad_sequences"
   ]
  },
  {
   "cell_type": "code",
   "execution_count": 9,
   "id": "05580106",
   "metadata": {},
   "outputs": [],
   "source": [
    "X_train = df[\"main_text\"]"
   ]
  },
  {
   "cell_type": "code",
   "execution_count": 10,
   "id": "6c7633b0",
   "metadata": {},
   "outputs": [
    {
     "name": "stdout",
     "output_type": "stream",
     "text": [
      "144\n"
     ]
    }
   ],
   "source": [
    "max_len = np.max(X_train.apply(lambda x :len(x)))\n",
    "print(max_len)"
   ]
  },
  {
   "cell_type": "code",
   "execution_count": 11,
   "id": "12f0ea6a",
   "metadata": {},
   "outputs": [],
   "source": [
    "tokenizer = Tokenizer()"
   ]
  },
  {
   "cell_type": "code",
   "execution_count": 12,
   "id": "ad7f3563",
   "metadata": {},
   "outputs": [],
   "source": [
    "tokenizer.fit_on_texts(X_train)\n",
    "vocab_length = len(tokenizer.word_index) + 1\n",
    "\n",
    "X_train = tokenizer.texts_to_sequences(X_train)\n",
    "X_train = pad_sequences(X_train, maxlen=max_len, padding='post')"
   ]
  },
  {
   "cell_type": "code",
   "execution_count": 13,
   "id": "a708e3f6",
   "metadata": {},
   "outputs": [
    {
     "data": {
      "text/plain": [
       "array([[ 6,  8,  7, ...,  0,  0,  0],\n",
       "       [18, 20, 23, ...,  0,  0,  0],\n",
       "       [ 1,  4,  2, ...,  0,  0,  0],\n",
       "       ...,\n",
       "       [62, 63, 64, ...,  0,  0,  0],\n",
       "       [ 6,  8,  7, ...,  0,  0,  0],\n",
       "       [14, 12, 11, ...,  0,  0,  0]], dtype=int32)"
      ]
     },
     "execution_count": 13,
     "metadata": {},
     "output_type": "execute_result"
    }
   ],
   "source": [
    "X_train"
   ]
  },
  {
   "cell_type": "code",
   "execution_count": 14,
   "id": "767b4400",
   "metadata": {},
   "outputs": [
    {
     "name": "stdout",
     "output_type": "stream",
     "text": [
      "499\n"
     ]
    }
   ],
   "source": [
    "print(vocab_length)"
   ]
  },
  {
   "cell_type": "code",
   "execution_count": 15,
   "id": "0d166e3c",
   "metadata": {},
   "outputs": [
    {
     "data": {
      "text/plain": [
       "(5446, 144)"
      ]
     },
     "execution_count": 15,
     "metadata": {},
     "output_type": "execute_result"
    }
   ],
   "source": [
    "X_train.shape"
   ]
  },
  {
   "cell_type": "code",
   "execution_count": 16,
   "id": "c4193646",
   "metadata": {},
   "outputs": [],
   "source": [
    "from sklearn.cluster import KMeans"
   ]
  },
  {
   "cell_type": "code",
   "execution_count": 17,
   "id": "784988ea",
   "metadata": {},
   "outputs": [],
   "source": [
    "from sklearn.preprocessing import StandardScaler"
   ]
  },
  {
   "cell_type": "code",
   "execution_count": 18,
   "id": "4476b438",
   "metadata": {},
   "outputs": [],
   "source": [
    "scaler = StandardScaler()"
   ]
  },
  {
   "cell_type": "code",
   "execution_count": 19,
   "id": "e2bc326d",
   "metadata": {},
   "outputs": [],
   "source": [
    "X_train = scaler.fit_transform(X_train)"
   ]
  },
  {
   "cell_type": "code",
   "execution_count": 20,
   "id": "126bb9a6",
   "metadata": {},
   "outputs": [],
   "source": [
    "wss=[]\n",
    "K=range(1,10)\n",
    "for i in K:\n",
    "    kmean=KMeans(n_clusters=i)\n",
    "    kmean.fit(X_train)\n",
    "    wss.append(kmean.inertia_)"
   ]
  },
  {
   "cell_type": "code",
   "execution_count": 21,
   "id": "edcf39f7",
   "metadata": {},
   "outputs": [
    {
     "data": {
      "text/plain": [
       "Text(0.5, 1.0, 'Finding optimal K kluster')"
      ]
     },
     "execution_count": 21,
     "metadata": {},
     "output_type": "execute_result"
    },
    {
     "data": {
      "image/png": "[encoded data removed]",
      "text/plain": [
       "<Figure size 432x288 with 1 Axes>"
      ]
     },
     "metadata": {
      "needs_background": "light"
     },
     "output_type": "display_data"
    }
   ],
   "source": [
    "plt.plot(K,wss,marker='x')\n",
    "plt.xlabel('K clusters')\n",
    "plt.ylabel('Erors')\n",
    "plt.title(\"Finding optimal K kluster\")"
   ]
  },
  {
   "cell_type": "code",
   "execution_count": 22,
   "id": "02f03b56",
   "metadata": {},
   "outputs": [],
   "source": [
    "mod = KMeans(n_clusters=4, random_state=0).fit(X_train)"
   ]
  },
  {
   "cell_type": "code",
   "execution_count": 23,
   "id": "d7ba69a7",
   "metadata": {},
   "outputs": [],
   "source": [
    "labels = mod.fit_predict(X_train)"
   ]
  },
  {
   "cell_type": "code",
   "execution_count": 24,
   "id": "ce09e59f",
   "metadata": {},
   "outputs": [],
   "source": [
    "df['clusters'] = labels"
   ]
  },
  {
   "cell_type": "code",
   "execution_count": 25,
   "id": "99437c1c",
   "metadata": {},
   "outputs": [],
   "source": [
    "df[\"clusters\"].replace({1:\"Gorup 1\",2:\"Gorup 2\",0:\"Gorup 3\",3:\"Gorup 4\",},inplace=True)"
   ]
  },
  {
   "cell_type": "code",
   "execution_count": 26,
   "id": "3ca169d3",
   "metadata": {},
   "outputs": [],
   "source": [
    "df_gr1 = df[df[\"clusters\"]==\"Gorup 1\"]"
   ]
  },
  {
   "cell_type": "code",
   "execution_count": 27,
   "id": "e3a1f1f0",
   "metadata": {},
   "outputs": [
    {
     "data": {
      "text/html": [
       "<div>\n",
       "<style scoped>\n",
       "    .dataframe tbody tr th:only-of-type {\n",
       "        vertical-align: middle;\n",
       "    }\n",
       "\n",
       "    .dataframe tbody tr th {\n",
       "        vertical-align: top;\n",
       "    }\n",
       "\n",
       "    .dataframe thead th {\n",
       "        text-align: right;\n",
       "    }\n",
       "</style>\n",
       "<table border=\"1\" class=\"dataframe\">\n",
       "  <thead>\n",
       "    <tr style=\"text-align: right;\">\n",
       "      <th></th>\n",
       "      <th>ticket</th>\n",
       "      <th>main_text</th>\n",
       "      <th>clusters</th>\n",
       "    </tr>\n",
       "  </thead>\n",
       "  <tbody>\n",
       "    <tr>\n",
       "      <th>4890</th>\n",
       "      <td>db22.qa.nec.com: Memory Pages is currently 99....</td>\n",
       "      <td>Memory Pages is currently 99.5597729813 which...</td>\n",
       "      <td>Gorup 1</td>\n",
       "    </tr>\n",
       "  </tbody>\n",
       "</table>\n",
       "</div>"
      ],
      "text/plain": [
       "                                                 ticket  \\\n",
       "4890  db22.qa.nec.com: Memory Pages is currently 99....   \n",
       "\n",
       "                                              main_text clusters  \n",
       "4890   Memory Pages is currently 99.5597729813 which...  Gorup 1  "
      ]
     },
     "execution_count": 27,
     "metadata": {},
     "output_type": "execute_result"
    }
   ],
   "source": [
    "df_gr1"
   ]
  },
  {
   "cell_type": "code",
   "execution_count": 56,
   "id": "fdb96855",
   "metadata": {},
   "outputs": [
    {
     "data": {
      "text/plain": [
       "'eit-pricommsrv1.tgna.tegna.com: Device Failed Availability Check: UDP - SNMP'"
      ]
     },
     "execution_count": 56,
     "metadata": {},
     "output_type": "execute_result"
    }
   ],
   "source": [
    "df[\"ticket\"][1000]"
   ]
  },
  {
   "cell_type": "code",
   "execution_count": 58,
   "id": "eb988bcb",
   "metadata": {},
   "outputs": [
    {
     "data": {
      "text/plain": [
       "'etm-priwodv13.tgna.tegna.com: Device Failed Availability Check: UDP - SNMP'"
      ]
     },
     "execution_count": 58,
     "metadata": {},
     "output_type": "execute_result"
    }
   ],
   "source": [
    "df[\"ticket\"][777]"
   ]
  },
  {
   "cell_type": "code",
   "execution_count": null,
   "id": "366c01bf",
   "metadata": {},
   "outputs": [],
   "source": []
  }
 ],
 "metadata": {
  "kernelspec": {
   "display_name": "Python 3 (ipykernel)",
   "language": "python",
   "name": "python3"
  },
  "language_info": {
   "codemirror_mode": {
    "name": "ipython",
    "version": 3
   },
   "file_extension": ".py",
   "mimetype": "text/x-python",
   "name": "python",
   "nbconvert_exporter": "python",
   "pygments_lexer": "ipython3",
   "version": "3.8.10"
  }
 },
 "nbformat": 4,
 "nbformat_minor": 5
}
