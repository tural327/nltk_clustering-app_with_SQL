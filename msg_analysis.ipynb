{
 "cells": [
  {
   "cell_type": "code",
   "execution_count": 1,
   "id": "a8aed50b",
   "metadata": {},
   "outputs": [],
   "source": [
    "import pandas as pd\n",
    "import numpy as np\n",
    "import matplotlib.pyplot as plt\n",
    "from sklearn.decomposition import PCA\n",
    "from wordcloud import WordCloud\n",
    "import seaborn as sns\n",
    "from sklearn.cluster import KMeans\n",
    "from sklearn.mixture import GaussianMixture"
   ]
  },
  {
   "cell_type": "code",
   "execution_count": 2,
   "id": "9d886822",
   "metadata": {},
   "outputs": [],
   "source": [
    "df = pd.read_csv(\"tickets.csv\")"
   ]
  },
  {
   "cell_type": "code",
   "execution_count": 3,
   "id": "2a789fc9",
   "metadata": {},
   "outputs": [
    {
     "data": {
      "text/plain": [
       "'test-vm-01: VMware: VM CPU Usage Has Exceeded Threshold (95%), currently (100.0%)'"
      ]
     },
     "execution_count": 3,
     "metadata": {},
     "output_type": "execute_result"
    }
   ],
   "source": [
    "df[\"ticket\"][3]"
   ]
  },
  {
   "cell_type": "code",
   "execution_count": 4,
   "id": "f9b7ad6f",
   "metadata": {},
   "outputs": [
    {
     "data": {
      "text/plain": [
       "' Device Failed Availability Check'"
      ]
     },
     "execution_count": 4,
     "metadata": {},
     "output_type": "execute_result"
    }
   ],
   "source": [
    "df[\"ticket\"][100].split(\":\")[1]"
   ]
  },
  {
   "cell_type": "code",
   "execution_count": 5,
   "id": "fafa4570",
   "metadata": {},
   "outputs": [
    {
     "data": {
      "text/plain": [
       "'test'"
      ]
     },
     "execution_count": 5,
     "metadata": {},
     "output_type": "execute_result"
    }
   ],
   "source": [
    "df[\"ticket\"][3][0:4]"
   ]
  },
  {
   "cell_type": "code",
   "execution_count": 6,
   "id": "1e00ceee",
   "metadata": {},
   "outputs": [],
   "source": [
    "def take_main_fail(text):\n",
    "    try:\n",
    "        if text[0:4] == 'test':\n",
    "            end_text = text.split(\":\")[2:]\n",
    "        else:\n",
    "            end_text = text.split(\":\")[1:]\n",
    "    except:\n",
    "        end_text = text\n",
    "    \n",
    "    return end_text"
   ]
  },
  {
   "cell_type": "code",
   "execution_count": 7,
   "id": "cfa03bbf",
   "metadata": {},
   "outputs": [],
   "source": [
    "df[\"main_text\"] = df[\"ticket\"].apply(lambda x :take_main_fail(x))"
   ]
  },
  {
   "cell_type": "code",
   "execution_count": 8,
   "id": "d54d48a9",
   "metadata": {},
   "outputs": [],
   "source": [
    "df[\"len_texts\"] = df[\"main_text\"].apply(lambda x : len(x))"
   ]
  },
  {
   "cell_type": "code",
   "execution_count": 9,
   "id": "badac316",
   "metadata": {},
   "outputs": [
    {
     "data": {
      "text/plain": [
       "(88, 3)"
      ]
     },
     "execution_count": 9,
     "metadata": {},
     "output_type": "execute_result"
    }
   ],
   "source": [
    "df1 = df[df[\"len_texts\"]==5]\n",
    "df1.shape"
   ]
  },
  {
   "cell_type": "code",
   "execution_count": 10,
   "id": "e116cdf0",
   "metadata": {},
   "outputs": [],
   "source": [
    "def make_text(x):\n",
    "    if len(x) == 5:\n",
    "        my_list = []\n",
    "        for i in x:\n",
    "            a = len(i)\n",
    "            my_list.append(a)\n",
    "\n",
    "        my_list.sort(reverse=True)\n",
    "        main_list = my_list[:2]\n",
    "        main_text = []\n",
    "        for i in x:\n",
    "            if main_list[0] == len(i):\n",
    "                main_text.append(i)\n",
    "            elif main_list[1] == len(i):\n",
    "                main_text.append(i)\n",
    "\n",
    "        return \"nothing\"\n",
    "    elif len(x) == 6:\n",
    "        return ' '.join(x[2:])\n",
    "    elif len(x)==4:\n",
    "        return x[0]\n",
    "    elif len(x)==3:\n",
    "        return x[0]\n",
    "    elif len(x)==2:\n",
    "        return ' '.join(x)\n",
    "    elif len(x)==2:\n",
    "        return x[0]\n",
    "    else:\n",
    "        return \"nothing\""
   ]
  },
  {
   "cell_type": "code",
   "execution_count": 11,
   "id": "46726efb",
   "metadata": {},
   "outputs": [],
   "source": [
    "df[\"new\"] = df[\"main_text\"].apply(lambda x : make_text(x))"
   ]
  },
  {
   "cell_type": "code",
   "execution_count": 12,
   "id": "ed6cc592",
   "metadata": {},
   "outputs": [
    {
     "data": {
      "text/plain": [
       "'nothing'"
      ]
     },
     "execution_count": 12,
     "metadata": {},
     "output_type": "execute_result"
    }
   ],
   "source": [
    "df[\"new\"][0]"
   ]
  },
  {
   "cell_type": "code",
   "execution_count": 13,
   "id": "4088e694",
   "metadata": {},
   "outputs": [],
   "source": [
    "df1 = df[df[\"new\"]!=\"nothing\"]"
   ]
  },
  {
   "cell_type": "code",
   "execution_count": 14,
   "id": "90c243ae",
   "metadata": {},
   "outputs": [],
   "source": [
    "df_problem_msg = df1.drop([\"ticket\",\"main_text\",\"len_texts\"],axis=1)"
   ]
  },
  {
   "cell_type": "code",
   "execution_count": 15,
   "id": "d216c6b1",
   "metadata": {},
   "outputs": [
    {
     "data": {
      "text/html": [
       "<div>\n",
       "<style scoped>\n",
       "    .dataframe tbody tr th:only-of-type {\n",
       "        vertical-align: middle;\n",
       "    }\n",
       "\n",
       "    .dataframe tbody tr th {\n",
       "        vertical-align: top;\n",
       "    }\n",
       "\n",
       "    .dataframe thead th {\n",
       "        text-align: right;\n",
       "    }\n",
       "</style>\n",
       "<table border=\"1\" class=\"dataframe\">\n",
       "  <thead>\n",
       "    <tr style=\"text-align: right;\">\n",
       "      <th></th>\n",
       "      <th>new</th>\n",
       "    </tr>\n",
       "  </thead>\n",
       "  <tbody>\n",
       "    <tr>\n",
       "      <th>1</th>\n",
       "      <td>Interface state changed to operationally down</td>\n",
       "    </tr>\n",
       "    <tr>\n",
       "      <th>2</th>\n",
       "      <td>Device Failed Availability Check  UDP - SNMP</td>\n",
       "    </tr>\n",
       "    <tr>\n",
       "      <th>4</th>\n",
       "      <td>Device Failed Availability Check</td>\n",
       "    </tr>\n",
       "    <tr>\n",
       "      <th>5</th>\n",
       "      <td>Device Failed Availability Check</td>\n",
       "    </tr>\n",
       "    <tr>\n",
       "      <th>6</th>\n",
       "      <td>Required service not running  Tomcat7</td>\n",
       "    </tr>\n",
       "    <tr>\n",
       "      <th>...</th>\n",
       "      <td>...</td>\n",
       "    </tr>\n",
       "    <tr>\n",
       "      <th>5439</th>\n",
       "      <td>Required service not running  Tomcat7</td>\n",
       "    </tr>\n",
       "    <tr>\n",
       "      <th>5440</th>\n",
       "      <td>Host Resource  Physical Memory has exceeded t...</td>\n",
       "    </tr>\n",
       "    <tr>\n",
       "      <th>5441</th>\n",
       "      <td>Device Failed Availability Check  UDP - SNMP</td>\n",
       "    </tr>\n",
       "    <tr>\n",
       "      <th>5442</th>\n",
       "      <td>Host Resource  Physical Memory has exceeded t...</td>\n",
       "    </tr>\n",
       "    <tr>\n",
       "      <th>5445</th>\n",
       "      <td>Required service not running  Tomcat7</td>\n",
       "    </tr>\n",
       "  </tbody>\n",
       "</table>\n",
       "<p>4179 rows × 1 columns</p>\n",
       "</div>"
      ],
      "text/plain": [
       "                                                    new\n",
       "1         Interface state changed to operationally down\n",
       "2          Device Failed Availability Check  UDP - SNMP\n",
       "4                      Device Failed Availability Check\n",
       "5                      Device Failed Availability Check\n",
       "6                 Required service not running  Tomcat7\n",
       "...                                                 ...\n",
       "5439              Required service not running  Tomcat7\n",
       "5440   Host Resource  Physical Memory has exceeded t...\n",
       "5441       Device Failed Availability Check  UDP - SNMP\n",
       "5442   Host Resource  Physical Memory has exceeded t...\n",
       "5445              Required service not running  Tomcat7\n",
       "\n",
       "[4179 rows x 1 columns]"
      ]
     },
     "execution_count": 15,
     "metadata": {},
     "output_type": "execute_result"
    }
   ],
   "source": [
    "df_problem_msg"
   ]
  },
  {
   "cell_type": "code",
   "execution_count": 16,
   "id": "606b0085",
   "metadata": {},
   "outputs": [],
   "source": [
    "df_problem_msg[\"new1\"] = df_problem_msg[\"new\"].apply(lambda x : x.lower())"
   ]
  },
  {
   "cell_type": "code",
   "execution_count": 17,
   "id": "18fe96b1",
   "metadata": {},
   "outputs": [
    {
     "data": {
      "text/plain": [
       "<matplotlib.image.AxesImage at 0x7f4bafb13d60>"
      ]
     },
     "execution_count": 17,
     "metadata": {},
     "output_type": "execute_result"
    },
    {
     "data": {
      "image/png": "[encoded data removed]",
      "text/plain": [
       "<Figure size 432x288 with 1 Axes>"
      ]
     },
     "metadata": {
      "needs_background": "light"
     },
     "output_type": "display_data"
    }
   ],
   "source": [
    "ws = WordCloud()\n",
    "ws.generate(str(df_problem_msg[\"new1\"]))\n",
    "plt.imshow(ws, interpolation='bilinear')"
   ]
  },
  {
   "cell_type": "code",
   "execution_count": 18,
   "id": "0a6e622f",
   "metadata": {},
   "outputs": [],
   "source": [
    "from sklearn.feature_extraction.text import TfidfVectorizer"
   ]
  },
  {
   "cell_type": "code",
   "execution_count": 19,
   "id": "37d29d6b",
   "metadata": {},
   "outputs": [],
   "source": [
    "vectorizer = TfidfVectorizer(stop_words='english')\n",
    "X = vectorizer.fit_transform(df_problem_msg[\"new1\"])"
   ]
  },
  {
   "cell_type": "code",
   "execution_count": 20,
   "id": "946a42f2",
   "metadata": {},
   "outputs": [
    {
     "data": {
      "text/plain": [
       "Text(0.5, 1.0, 'Finding optimal K kluster')"
      ]
     },
     "execution_count": 20,
     "metadata": {},
     "output_type": "execute_result"
    },
    {
     "data": {
      "image/png": "[encoded data removed]",
      "text/plain": [
       "<Figure size 432x288 with 1 Axes>"
      ]
     },
     "metadata": {
      "needs_background": "light"
     },
     "output_type": "display_data"
    }
   ],
   "source": [
    "wss=[]\n",
    "K=range(1,10)\n",
    "for i in K:\n",
    "    kmean=KMeans(n_clusters=i)\n",
    "    kmean.fit(X.toarray())\n",
    "    wss.append(kmean.inertia_)\n",
    "\n",
    "plt.plot(K,wss,marker='x')\n",
    "plt.xlabel('K clusters')\n",
    "plt.ylabel('Erors')\n",
    "plt.title(\"Finding optimal K kluster\")"
   ]
  },
  {
   "cell_type": "code",
   "execution_count": 21,
   "id": "23629676",
   "metadata": {},
   "outputs": [
    {
     "data": {
      "text/plain": [
       "0.0"
      ]
     },
     "execution_count": 21,
     "metadata": {},
     "output_type": "execute_result"
    }
   ],
   "source": [
    "X.toarray().min()"
   ]
  },
  {
   "cell_type": "code",
   "execution_count": 22,
   "id": "2fd1bf64",
   "metadata": {},
   "outputs": [],
   "source": [
    "model = GaussianMixture(n_components=7)\n",
    "labels = model.fit_predict(X.toarray())"
   ]
  },
  {
   "cell_type": "code",
   "execution_count": 23,
   "id": "44946cb1",
   "metadata": {},
   "outputs": [],
   "source": [
    "df_problem_msg['clusters'] = labels"
   ]
  },
  {
   "cell_type": "code",
   "execution_count": 24,
   "id": "29892af3",
   "metadata": {},
   "outputs": [
    {
     "data": {
      "text/plain": [
       "array([5, 2, 1, 3, 0, 6, 4])"
      ]
     },
     "execution_count": 24,
     "metadata": {},
     "output_type": "execute_result"
    }
   ],
   "source": [
    "df_problem_msg[\"clusters\"].unique()"
   ]
  },
  {
   "cell_type": "code",
   "execution_count": 50,
   "id": "7ac10885",
   "metadata": {},
   "outputs": [],
   "source": [
    "df_test_clst = df_problem_msg[df_problem_msg[\"clusters\"]==6]"
   ]
  },
  {
   "cell_type": "code",
   "execution_count": 51,
   "id": "cac2c84a",
   "metadata": {},
   "outputs": [
    {
     "data": {
      "text/html": [
       "<div>\n",
       "<style scoped>\n",
       "    .dataframe tbody tr th:only-of-type {\n",
       "        vertical-align: middle;\n",
       "    }\n",
       "\n",
       "    .dataframe tbody tr th {\n",
       "        vertical-align: top;\n",
       "    }\n",
       "\n",
       "    .dataframe thead th {\n",
       "        text-align: right;\n",
       "    }\n",
       "</style>\n",
       "<table border=\"1\" class=\"dataframe\">\n",
       "  <thead>\n",
       "    <tr style=\"text-align: right;\">\n",
       "      <th></th>\n",
       "      <th>new</th>\n",
       "      <th>new1</th>\n",
       "      <th>clusters</th>\n",
       "    </tr>\n",
       "  </thead>\n",
       "  <tbody>\n",
       "    <tr>\n",
       "      <th>16</th>\n",
       "      <td>Filesystem unavailable  '/dev/fslv01' on Devi...</td>\n",
       "      <td>filesystem unavailable  '/dev/fslv01' on devi...</td>\n",
       "      <td>6</td>\n",
       "    </tr>\n",
       "    <tr>\n",
       "      <th>40</th>\n",
       "      <td>Filesystem unavailable  '/dev/hd1' on Device ...</td>\n",
       "      <td>filesystem unavailable  '/dev/hd1' on device ...</td>\n",
       "      <td>6</td>\n",
       "    </tr>\n",
       "    <tr>\n",
       "      <th>117</th>\n",
       "      <td>Filesystem unavailable</td>\n",
       "      <td>filesystem unavailable</td>\n",
       "      <td>6</td>\n",
       "    </tr>\n",
       "    <tr>\n",
       "      <th>129</th>\n",
       "      <td>Filesystem unavailable  '/var' on Device '4890'</td>\n",
       "      <td>filesystem unavailable  '/var' on device '4890'</td>\n",
       "      <td>6</td>\n",
       "    </tr>\n",
       "    <tr>\n",
       "      <th>162</th>\n",
       "      <td>Filesystem unavailable  '/dev/hd1' on Device ...</td>\n",
       "      <td>filesystem unavailable  '/dev/hd1' on device ...</td>\n",
       "      <td>6</td>\n",
       "    </tr>\n",
       "  </tbody>\n",
       "</table>\n",
       "</div>"
      ],
      "text/plain": [
       "                                                   new  \\\n",
       "16    Filesystem unavailable  '/dev/fslv01' on Devi...   \n",
       "40    Filesystem unavailable  '/dev/hd1' on Device ...   \n",
       "117                             Filesystem unavailable   \n",
       "129    Filesystem unavailable  '/var' on Device '4890'   \n",
       "162   Filesystem unavailable  '/dev/hd1' on Device ...   \n",
       "\n",
       "                                                  new1  clusters  \n",
       "16    filesystem unavailable  '/dev/fslv01' on devi...         6  \n",
       "40    filesystem unavailable  '/dev/hd1' on device ...         6  \n",
       "117                             filesystem unavailable         6  \n",
       "129    filesystem unavailable  '/var' on device '4890'         6  \n",
       "162   filesystem unavailable  '/dev/hd1' on device ...         6  "
      ]
     },
     "execution_count": 51,
     "metadata": {},
     "output_type": "execute_result"
    }
   ],
   "source": [
    "df_test_clst.head()"
   ]
  },
  {
   "cell_type": "code",
   "execution_count": 54,
   "id": "1f6e8caf",
   "metadata": {},
   "outputs": [],
   "source": [
    "data = [int(df_problem_msg[df_problem_msg[\"clusters\"]==0].shape[0]),int(df_problem_msg[df_problem_msg[\"clusters\"]==1].shape[0]),int(df_problem_msg[df_problem_msg[\"clusters\"]==2].shape[0]),int(df_problem_msg[df_problem_msg[\"clusters\"]==3].shape[0]),int(df_problem_msg[df_problem_msg[\"clusters\"]==4].shape[0]),int(df_problem_msg[df_problem_msg[\"clusters\"]==5].shape[0]),int(df_problem_msg[df_problem_msg[\"clusters\"]==6].shape[0])]"
   ]
  },
  {
   "cell_type": "code",
   "execution_count": 53,
   "id": "6994bf55",
   "metadata": {},
   "outputs": [
    {
     "data": {
      "text/plain": [
       "235"
      ]
     },
     "execution_count": 53,
     "metadata": {},
     "output_type": "execute_result"
    }
   ],
   "source": [
    "int(df_problem_msg[df_problem_msg[\"clusters\"]==6].shape[0])"
   ]
  },
  {
   "cell_type": "code",
   "execution_count": null,
   "id": "f16af285",
   "metadata": {},
   "outputs": [],
   "source": []
  }
 ],
 "metadata": {
  "kernelspec": {
   "display_name": "Python 3 (ipykernel)",
   "language": "python",
   "name": "python3"
  },
  "language_info": {
   "codemirror_mode": {
    "name": "ipython",
    "version": 3
   },
   "file_extension": ".py",
   "mimetype": "text/x-python",
   "name": "python",
   "nbconvert_exporter": "python",
   "pygments_lexer": "ipython3",
   "version": "3.8.10"
  }
 },
 "nbformat": 4,
 "nbformat_minor": 5
}
